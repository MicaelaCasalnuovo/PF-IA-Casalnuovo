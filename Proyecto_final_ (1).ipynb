{
  "nbformat": 4,
  "nbformat_minor": 0,
  "metadata": {
    "colab": {
      "provenance": []
    },
    "kernelspec": {
      "name": "python3",
      "display_name": "Python 3"
    },
    "language_info": {
      "name": "python"
    }
  },
  "cells": [
    {
      "cell_type": "code",
      "source": [
        "pip install groq"
      ],
      "metadata": {
        "colab": {
          "base_uri": "https://localhost:8080/"
        },
        "collapsed": true,
        "id": "28Vr3DtfOmPG",
        "outputId": "aec3f5df-7623-4576-916e-489fa720e874"
      },
      "execution_count": 4,
      "outputs": [
        {
          "output_type": "stream",
          "name": "stdout",
          "text": [
            "Collecting groq\n",
            "  Downloading groq-0.18.0-py3-none-any.whl.metadata (14 kB)\n",
            "Requirement already satisfied: anyio<5,>=3.5.0 in /usr/local/lib/python3.11/dist-packages (from groq) (3.7.1)\n",
            "Requirement already satisfied: distro<2,>=1.7.0 in /usr/local/lib/python3.11/dist-packages (from groq) (1.9.0)\n",
            "Requirement already satisfied: httpx<1,>=0.23.0 in /usr/local/lib/python3.11/dist-packages (from groq) (0.28.1)\n",
            "Requirement already satisfied: pydantic<3,>=1.9.0 in /usr/local/lib/python3.11/dist-packages (from groq) (2.10.6)\n",
            "Requirement already satisfied: sniffio in /usr/local/lib/python3.11/dist-packages (from groq) (1.3.1)\n",
            "Requirement already satisfied: typing-extensions<5,>=4.10 in /usr/local/lib/python3.11/dist-packages (from groq) (4.12.2)\n",
            "Requirement already satisfied: idna>=2.8 in /usr/local/lib/python3.11/dist-packages (from anyio<5,>=3.5.0->groq) (3.10)\n",
            "Requirement already satisfied: certifi in /usr/local/lib/python3.11/dist-packages (from httpx<1,>=0.23.0->groq) (2025.1.31)\n",
            "Requirement already satisfied: httpcore==1.* in /usr/local/lib/python3.11/dist-packages (from httpx<1,>=0.23.0->groq) (1.0.7)\n",
            "Requirement already satisfied: h11<0.15,>=0.13 in /usr/local/lib/python3.11/dist-packages (from httpcore==1.*->httpx<1,>=0.23.0->groq) (0.14.0)\n",
            "Requirement already satisfied: annotated-types>=0.6.0 in /usr/local/lib/python3.11/dist-packages (from pydantic<3,>=1.9.0->groq) (0.7.0)\n",
            "Requirement already satisfied: pydantic-core==2.27.2 in /usr/local/lib/python3.11/dist-packages (from pydantic<3,>=1.9.0->groq) (2.27.2)\n",
            "Downloading groq-0.18.0-py3-none-any.whl (121 kB)\n",
            "\u001b[?25l   \u001b[90m━━━━━━━━━━━━━━━━━━━━━━━━━━━━━━━━━━━━━━━━\u001b[0m \u001b[32m0.0/121.9 kB\u001b[0m \u001b[31m?\u001b[0m eta \u001b[36m-:--:--\u001b[0m\r\u001b[2K   \u001b[91m━━━━━━━━━━━━━━━━━━━━━━━━━━━━━━━━━━━━\u001b[0m\u001b[91m╸\u001b[0m\u001b[90m━━━\u001b[0m \u001b[32m112.6/121.9 kB\u001b[0m \u001b[31m4.6 MB/s\u001b[0m eta \u001b[36m0:00:01\u001b[0m\r\u001b[2K   \u001b[90m━━━━━━━━━━━━━━━━━━━━━━━━━━━━━━━━━━━━━━━━\u001b[0m \u001b[32m121.9/121.9 kB\u001b[0m \u001b[31m2.9 MB/s\u001b[0m eta \u001b[36m0:00:00\u001b[0m\n",
            "\u001b[?25hInstalling collected packages: groq\n",
            "Successfully installed groq-0.18.0\n"
          ]
        }
      ]
    },
    {
      "cell_type": "code",
      "source": [
        "from groq import Groq"
      ],
      "metadata": {
        "id": "ME1rdPdJOw5M"
      },
      "execution_count": 5,
      "outputs": []
    },
    {
      "cell_type": "code",
      "source": [
        "cliente = Groq(api_key=\"\")"
      ],
      "metadata": {
        "id": "UGp9H9T3PK5s"
      },
      "execution_count": 6,
      "outputs": []
    },
    {
      "cell_type": "code",
      "source": [
        "from groq import Groq\n",
        "\n",
        "\n",
        "cliente = Groq(api_key=\"\")\n",
        "\n",
        "# Función para generar un cuento\n",
        "def generar_cuento(palabras, max_palabras=150):\n",
        "    # Usar palabras clave para armar el cuento\n",
        "    prompt = f\"Escribe un cuento corto que incluya las siguientes palabras: {palabras}. El cuento debe tener un máximo de {max_palabras} palabras.\"\n",
        "\n",
        "    # Api para generar el cuento\n",
        "    try:\n",
        "        chat_completion = cliente.chat.completions.create(\n",
        "            model=\"llama3-8b-8192\",\n",
        "            messages=[{\n",
        "                \"role\": \"user\",\n",
        "                \"content\": prompt\n",
        "            }],\n",
        "            max_tokens=200\n",
        "        )\n",
        "\n",
        "        # Cuento generado\n",
        "        cuento = chat_completion.choices[0].message.content\n",
        "\n",
        "        # Limitar la longitud del cuento a 150 palabras\n",
        "        cuento_limite = ' '.join(cuento.split()[:max_palabras])\n",
        "\n",
        "        return cuento_limite\n",
        "\n",
        "    except Exception as e:\n",
        "        return f\"Ocurrió un error: {e}\"\n",
        "\n",
        "# Solicitar palabras clave del usuario\n",
        "palabras_input = input(\"Ingresa las palabras para el cuento (separadas por comas): \")\n",
        "\n",
        "# Generar y mostrar el cuento\n",
        "cuento_generado = generar_cuento(palabras_input)\n",
        "print(\"\\nCuento generado:\")\n",
        "print(cuento_generado)\n"
      ],
      "metadata": {
        "colab": {
          "base_uri": "https://localhost:8080/"
        },
        "id": "OEs32iUJWSqS",
        "outputId": "ddeefa42-1e60-4e2e-aeb4-01903577df27"
      },
      "execution_count": 7,
      "outputs": [
        {
          "output_type": "stream",
          "name": "stdout",
          "text": [
            "Ingresa las palabras para el cuento (separadas por comas): caballo, princesa\n",
            "\n",
            "Cuento generado:\n",
            "En el castillo de la reina, la princesa Sofía era conocida por su amor incondicional por los caballos. Uno de sus caballos favoritos era un majestuoso corcel negro llamado Midnight. Un día, mientras Sofía y Midnight hacían un paseo por el bosque cercano, caen en una trampa malévola tendida por un enigmático desconocido. Midnight, con una rapidez impresionante, salta sobre la trampas y evita que Sofía se haga daño. Juntos, regresan al castillo y revelan la trampa a la reina. Gracias al heroísmo de Midnight, Sofía puede seguir siendo la princesa que siempre ha sido, y su amor por los caballos es reforzado aún más. Midnight se vuelve incluso más querido en el corazón de Sofía, y juntos disfr\n"
          ]
        }
      ]
    },
    {
      "cell_type": "code",
      "source": [
        "!pip install replicate requests pillow\n"
      ],
      "metadata": {
        "colab": {
          "base_uri": "https://localhost:8080/"
        },
        "collapsed": true,
        "id": "F3PMPUrz5OvF",
        "outputId": "397a3de2-ac79-4b18-92d5-c92e957a4084"
      },
      "execution_count": 11,
      "outputs": [
        {
          "output_type": "stream",
          "name": "stdout",
          "text": [
            "Collecting replicate\n",
            "  Downloading replicate-1.0.4-py3-none-any.whl.metadata (29 kB)\n",
            "Requirement already satisfied: requests in /usr/local/lib/python3.11/dist-packages (2.32.3)\n",
            "Requirement already satisfied: pillow in /usr/local/lib/python3.11/dist-packages (11.1.0)\n",
            "Requirement already satisfied: httpx<1,>=0.21.0 in /usr/local/lib/python3.11/dist-packages (from replicate) (0.28.1)\n",
            "Requirement already satisfied: packaging in /usr/local/lib/python3.11/dist-packages (from replicate) (24.2)\n",
            "Requirement already satisfied: pydantic>1.10.7 in /usr/local/lib/python3.11/dist-packages (from replicate) (2.10.6)\n",
            "Requirement already satisfied: typing_extensions>=4.5.0 in /usr/local/lib/python3.11/dist-packages (from replicate) (4.12.2)\n",
            "Requirement already satisfied: charset-normalizer<4,>=2 in /usr/local/lib/python3.11/dist-packages (from requests) (3.4.1)\n",
            "Requirement already satisfied: idna<4,>=2.5 in /usr/local/lib/python3.11/dist-packages (from requests) (3.10)\n",
            "Requirement already satisfied: urllib3<3,>=1.21.1 in /usr/local/lib/python3.11/dist-packages (from requests) (2.3.0)\n",
            "Requirement already satisfied: certifi>=2017.4.17 in /usr/local/lib/python3.11/dist-packages (from requests) (2025.1.31)\n",
            "Requirement already satisfied: anyio in /usr/local/lib/python3.11/dist-packages (from httpx<1,>=0.21.0->replicate) (3.7.1)\n",
            "Requirement already satisfied: httpcore==1.* in /usr/local/lib/python3.11/dist-packages (from httpx<1,>=0.21.0->replicate) (1.0.7)\n",
            "Requirement already satisfied: h11<0.15,>=0.13 in /usr/local/lib/python3.11/dist-packages (from httpcore==1.*->httpx<1,>=0.21.0->replicate) (0.14.0)\n",
            "Requirement already satisfied: annotated-types>=0.6.0 in /usr/local/lib/python3.11/dist-packages (from pydantic>1.10.7->replicate) (0.7.0)\n",
            "Requirement already satisfied: pydantic-core==2.27.2 in /usr/local/lib/python3.11/dist-packages (from pydantic>1.10.7->replicate) (2.27.2)\n",
            "Requirement already satisfied: sniffio>=1.1 in /usr/local/lib/python3.11/dist-packages (from anyio->httpx<1,>=0.21.0->replicate) (1.3.1)\n",
            "Downloading replicate-1.0.4-py3-none-any.whl (48 kB)\n",
            "\u001b[?25l   \u001b[90m━━━━━━━━━━━━━━━━━━━━━━━━━━━━━━━━━━━━━━━━\u001b[0m \u001b[32m0.0/48.0 kB\u001b[0m \u001b[31m?\u001b[0m eta \u001b[36m-:--:--\u001b[0m\r\u001b[2K   \u001b[90m━━━━━━━━━━━━━━━━━━━━━━━━━━━━━━━━━━━━━━━━\u001b[0m \u001b[32m48.0/48.0 kB\u001b[0m \u001b[31m2.0 MB/s\u001b[0m eta \u001b[36m0:00:00\u001b[0m\n",
            "\u001b[?25hInstalling collected packages: replicate\n",
            "Successfully installed replicate-1.0.4\n"
          ]
        }
      ]
    },
    {
      "cell_type": "code",
      "source": [
        "# Importar las bibliotecas necesarias\n",
        "import replicate\n",
        "from PIL import Image\n",
        "from io import BytesIO\n",
        "import requests"
      ],
      "metadata": {
        "id": "brVCoZha5m-w"
      },
      "execution_count": 12,
      "outputs": []
    },
    {
      "cell_type": "code",
      "source": [
        "\n",
        "\n",
        "# Tu clave API de Replicate\n",
        "client = replicate.Client(api_token=\"\")  # Asegúrate de reemplazarlo con tu clave real\n",
        "\n",
        "def generar_imagen_stable_diffusion(prompt):\n",
        "    try:\n",
        "        # ID del modelo de Stable Diffusion\n",
        "        model_id = \"stability-ai/stable-diffusion\"  # ID del modelo\n",
        "\n",
        "        # Llamada a replicate.run() con el modelo y los parámetros necesarios\n",
        "        output = replicate.run(\n",
        "            model_id,\n",
        "            input={\"prompt\": prompt}  # Parámetro de entrada: el prompt para generar la imagen\n",
        "        )\n",
        "\n",
        "        # El resultado de 'replicate.run()' es una lista de URLs de imágenes generadas\n",
        "        image_url = output[0]  # Usamos la primera imagen generada\n",
        "\n",
        "        # Descargar la imagen\n",
        "        img_data = requests.get(image_url).content\n",
        "        img = Image.open(BytesIO(img_data))\n",
        "\n",
        "        # Mostrar la imagen en Google Colab\n",
        "        plt.imshow(img)\n",
        "        plt.axis('off')  # Desactivar los ejes\n",
        "        plt.show()\n",
        "    except Exception as e:\n",
        "        print(f\"Error: {e}\")\n",
        "\n",
        "# Generar imagen con un prompt\n",
        "prompt = \"Un joven príncipe enfrentándose a un dragón feroz en un paisaje épico.\"\n",
        "generar_imagen_stable_diffusion(prompt)"
      ],
      "metadata": {
        "colab": {
          "base_uri": "https://localhost:8080/"
        },
        "id": "bVJS_let5r0m",
        "outputId": "2024f075-8f58-4aee-a5dd-7a6cd0c408a2"
      },
      "execution_count": 24,
      "outputs": [
        {
          "output_type": "stream",
          "name": "stdout",
          "text": [
            "Error: ReplicateError Details:\n",
            "title: Unauthenticated\n",
            "status: 401\n",
            "detail: You did not pass an authentication token\n"
          ]
        }
      ]
    }
  ]
}